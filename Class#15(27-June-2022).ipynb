{
 "cells": [
  {
   "cell_type": "markdown",
   "id": "95a7efa1",
   "metadata": {},
   "source": [
    "# Revision of previous class"
   ]
  },
  {
   "cell_type": "code",
   "execution_count": 6,
   "id": "41fd90ae",
   "metadata": {},
   "outputs": [],
   "source": [
    "def square(num):\n",
    "    square=num*num\n",
    "    print(square)"
   ]
  },
  {
   "cell_type": "code",
   "execution_count": 7,
   "id": "07c86856",
   "metadata": {},
   "outputs": [
    {
     "name": "stdout",
     "output_type": "stream",
     "text": [
      "144\n"
     ]
    }
   ],
   "source": [
    "square(12)"
   ]
  },
  {
   "cell_type": "code",
   "execution_count": 8,
   "id": "2d4c7e41",
   "metadata": {},
   "outputs": [],
   "source": [
    "def square(num):\n",
    "    sqr=num*num"
   ]
  },
  {
   "cell_type": "code",
   "execution_count": 9,
   "id": "69eb0d4f",
   "metadata": {},
   "outputs": [
    {
     "ename": "NameError",
     "evalue": "name 'sqr' is not defined",
     "output_type": "error",
     "traceback": [
      "\u001b[1;31m---------------------------------------------------------------------------\u001b[0m",
      "\u001b[1;31mNameError\u001b[0m                                 Traceback (most recent call last)",
      "\u001b[1;32mC:\\Users\\LAB02R~1\\AppData\\Local\\Temp/ipykernel_10132/2196237943.py\u001b[0m in \u001b[0;36m<module>\u001b[1;34m\u001b[0m\n\u001b[1;32m----> 1\u001b[1;33m \u001b[0mprint\u001b[0m\u001b[1;33m(\u001b[0m\u001b[0msqr\u001b[0m\u001b[1;33m)\u001b[0m\u001b[1;33m\u001b[0m\u001b[1;33m\u001b[0m\u001b[0m\n\u001b[0m",
      "\u001b[1;31mNameError\u001b[0m: name 'sqr' is not defined"
     ]
    }
   ],
   "source": [
    "print(sqr)"
   ]
  },
  {
   "cell_type": "code",
   "execution_count": 56,
   "id": "a349f56e",
   "metadata": {},
   "outputs": [],
   "source": [
    "def square(num):\n",
    "    \n",
    "    #local varibale\n",
    "    sqr=num*num\n",
    "    print(sqr)\n",
    "    #global variable\n",
    "    global name\n",
    "    name = \"Dildar Ali\""
   ]
  },
  {
   "cell_type": "code",
   "execution_count": 57,
   "id": "0ec96783",
   "metadata": {},
   "outputs": [
    {
     "name": "stdout",
     "output_type": "stream",
     "text": [
      "4\n"
     ]
    }
   ],
   "source": [
    "square(2)"
   ]
  },
  {
   "cell_type": "code",
   "execution_count": 58,
   "id": "30b61dba",
   "metadata": {},
   "outputs": [
    {
     "name": "stdout",
     "output_type": "stream",
     "text": [
      "Dildar Ali\n"
     ]
    }
   ],
   "source": [
    "print(name)"
   ]
  },
  {
   "cell_type": "code",
   "execution_count": 59,
   "id": "64137e69",
   "metadata": {},
   "outputs": [
    {
     "name": "stdout",
     "output_type": "stream",
     "text": [
      "4\n"
     ]
    }
   ],
   "source": [
    "square(2)"
   ]
  },
  {
   "cell_type": "code",
   "execution_count": 24,
   "id": "0eac259f",
   "metadata": {},
   "outputs": [],
   "source": [
    "def square(num):\n",
    "    sqr=num*num\n",
    "  #  return sqr"
   ]
  },
  {
   "cell_type": "code",
   "execution_count": 25,
   "id": "684e4504",
   "metadata": {},
   "outputs": [],
   "source": [
    "square(10)"
   ]
  },
  {
   "cell_type": "code",
   "execution_count": 26,
   "id": "7df83f08",
   "metadata": {},
   "outputs": [],
   "source": [
    "def square(num):\n",
    "    sqr=num*num\n",
    "    return sqr"
   ]
  },
  {
   "cell_type": "code",
   "execution_count": 27,
   "id": "51bc5c38",
   "metadata": {},
   "outputs": [
    {
     "data": {
      "text/plain": [
       "100"
      ]
     },
     "execution_count": 27,
     "metadata": {},
     "output_type": "execute_result"
    }
   ],
   "source": [
    "square(10)"
   ]
  },
  {
   "cell_type": "code",
   "execution_count": 28,
   "id": "516d5654",
   "metadata": {},
   "outputs": [],
   "source": [
    "a=square(10)"
   ]
  },
  {
   "cell_type": "code",
   "execution_count": 29,
   "id": "35a79f1b",
   "metadata": {},
   "outputs": [
    {
     "data": {
      "text/plain": [
       "100"
      ]
     },
     "execution_count": 29,
     "metadata": {},
     "output_type": "execute_result"
    }
   ],
   "source": [
    "a"
   ]
  },
  {
   "cell_type": "code",
   "execution_count": 31,
   "id": "a3cf95fe",
   "metadata": {},
   "outputs": [
    {
     "name": "stdout",
     "output_type": "stream",
     "text": [
      "101\n"
     ]
    }
   ],
   "source": [
    "print(a+1)"
   ]
  },
  {
   "cell_type": "code",
   "execution_count": 32,
   "id": "6c202db3",
   "metadata": {},
   "outputs": [],
   "source": [
    "def square(num):\n",
    "    \n",
    "    sqr=num*num\n",
    "    return sqr\n",
    "\n",
    "    print(\"Hi dildar\") # not returns\n",
    "    return abc    # not returns"
   ]
  },
  {
   "cell_type": "code",
   "execution_count": 35,
   "id": "d524f413",
   "metadata": {},
   "outputs": [
    {
     "data": {
      "text/plain": [
       "144"
      ]
     },
     "execution_count": 35,
     "metadata": {},
     "output_type": "execute_result"
    }
   ],
   "source": [
    "square(12)"
   ]
  },
  {
   "cell_type": "code",
   "execution_count": 36,
   "id": "583869a3",
   "metadata": {},
   "outputs": [],
   "source": [
    "def square(num):\n",
    "    \n",
    "    sqr=num*num\n",
    "    return sqr,\"Hello\",True"
   ]
  },
  {
   "cell_type": "code",
   "execution_count": 38,
   "id": "9a255832",
   "metadata": {},
   "outputs": [
    {
     "data": {
      "text/plain": [
       "(144, 'Hello', True)"
      ]
     },
     "execution_count": 38,
     "metadata": {},
     "output_type": "execute_result"
    }
   ],
   "source": [
    "square(12)"
   ]
  },
  {
   "cell_type": "code",
   "execution_count": 41,
   "id": "6e7e316e",
   "metadata": {},
   "outputs": [],
   "source": [
    "def add(a,b):\n",
    "    return a+b"
   ]
  },
  {
   "cell_type": "code",
   "execution_count": 42,
   "id": "5798d99c",
   "metadata": {},
   "outputs": [
    {
     "data": {
      "text/plain": [
       "6"
      ]
     },
     "execution_count": 42,
     "metadata": {},
     "output_type": "execute_result"
    }
   ],
   "source": [
    "add(2,4)"
   ]
  },
  {
   "cell_type": "code",
   "execution_count": 60,
   "id": "588095b7",
   "metadata": {},
   "outputs": [],
   "source": [
    "def mul(a,b):\n",
    "    c=a*b\n",
    "    global name\n",
    "    name=\"Dildar\"\n",
    "    return c"
   ]
  },
  {
   "cell_type": "code",
   "execution_count": 61,
   "id": "d2cd6ba6",
   "metadata": {},
   "outputs": [
    {
     "data": {
      "text/plain": [
       "6"
      ]
     },
     "execution_count": 61,
     "metadata": {},
     "output_type": "execute_result"
    }
   ],
   "source": [
    "mul(2,3)"
   ]
  },
  {
   "cell_type": "code",
   "execution_count": 62,
   "id": "7a59c70a",
   "metadata": {},
   "outputs": [
    {
     "name": "stdout",
     "output_type": "stream",
     "text": [
      "Dildar\n"
     ]
    }
   ],
   "source": [
    "print(name)"
   ]
  },
  {
   "cell_type": "code",
   "execution_count": 63,
   "id": "b7cbfb22",
   "metadata": {},
   "outputs": [
    {
     "name": "stdout",
     "output_type": "stream",
     "text": [
      "6\n"
     ]
    }
   ],
   "source": [
    "print(mul(2,3))"
   ]
  },
  {
   "cell_type": "code",
   "execution_count": 64,
   "id": "decd3233",
   "metadata": {},
   "outputs": [],
   "source": [
    "def mul(a,b):\n",
    "    c=a*b\n",
    "    print(c)"
   ]
  },
  {
   "cell_type": "code",
   "execution_count": 65,
   "id": "8b7739b0",
   "metadata": {},
   "outputs": [
    {
     "name": "stdout",
     "output_type": "stream",
     "text": [
      "6\n",
      "None\n"
     ]
    }
   ],
   "source": [
    "print(mul(2,3))"
   ]
  },
  {
   "cell_type": "code",
   "execution_count": 79,
   "id": "71b43d0c",
   "metadata": {},
   "outputs": [
    {
     "ename": "NameError",
     "evalue": "name 'c' is not defined",
     "output_type": "error",
     "traceback": [
      "\u001b[1;31m---------------------------------------------------------------------------\u001b[0m",
      "\u001b[1;31mNameError\u001b[0m                                 Traceback (most recent call last)",
      "\u001b[1;32mC:\\Users\\LAB02R~1\\AppData\\Local\\Temp/ipykernel_10132/2743823995.py\u001b[0m in \u001b[0;36m<module>\u001b[1;34m\u001b[0m\n\u001b[1;32m----> 1\u001b[1;33m \u001b[0mprint\u001b[0m\u001b[1;33m(\u001b[0m\u001b[0mc\u001b[0m\u001b[1;33m)\u001b[0m\u001b[1;33m\u001b[0m\u001b[1;33m\u001b[0m\u001b[0m\n\u001b[0m",
      "\u001b[1;31mNameError\u001b[0m: name 'c' is not defined"
     ]
    }
   ],
   "source": [
    "print(c)"
   ]
  },
  {
   "cell_type": "code",
   "execution_count": 72,
   "id": "43daba95",
   "metadata": {},
   "outputs": [],
   "source": [
    "def mul(a,b):\n",
    "    return a*b\n",
    "     "
   ]
  },
  {
   "cell_type": "code",
   "execution_count": 73,
   "id": "0a64f51e",
   "metadata": {},
   "outputs": [
    {
     "data": {
      "text/plain": [
       "6"
      ]
     },
     "execution_count": 73,
     "metadata": {},
     "output_type": "execute_result"
    }
   ],
   "source": [
    "mul(2,3)"
   ]
  },
  {
   "cell_type": "code",
   "execution_count": 74,
   "id": "8ba51ee6",
   "metadata": {},
   "outputs": [
    {
     "name": "stdout",
     "output_type": "stream",
     "text": [
      "6\n"
     ]
    }
   ],
   "source": [
    "print(mul(2,3))"
   ]
  },
  {
   "cell_type": "code",
   "execution_count": 76,
   "id": "e6b580e2",
   "metadata": {},
   "outputs": [],
   "source": [
    "def mul(a,b):\n",
    "    c= a*b\n",
    "    return"
   ]
  },
  {
   "cell_type": "code",
   "execution_count": 77,
   "id": "7ff7eb4e",
   "metadata": {},
   "outputs": [],
   "source": [
    "mul(2,3)"
   ]
  },
  {
   "cell_type": "code",
   "execution_count": 78,
   "id": "7ce65c51",
   "metadata": {},
   "outputs": [
    {
     "name": "stdout",
     "output_type": "stream",
     "text": [
      "None\n"
     ]
    }
   ],
   "source": [
    "print(mul(2,3))"
   ]
  },
  {
   "cell_type": "markdown",
   "id": "4f3e9c38",
   "metadata": {},
   "source": [
    "# Positional parameters in Arguments \n",
    "# Today's class work"
   ]
  },
  {
   "cell_type": "code",
   "execution_count": 82,
   "id": "e6d6a442",
   "metadata": {},
   "outputs": [],
   "source": [
    "def complete_name(first_name,last_name):\n",
    "    full_name= first_name +\" \"+ last_name\n",
    "    return full_name"
   ]
  },
  {
   "cell_type": "code",
   "execution_count": 83,
   "id": "91e46165",
   "metadata": {},
   "outputs": [
    {
     "data": {
      "text/plain": [
       "'Ali Dildar'"
      ]
     },
     "execution_count": 83,
     "metadata": {},
     "output_type": "execute_result"
    }
   ],
   "source": [
    "complete_name(\"Ali\",\"Dildar\")"
   ]
  },
  {
   "cell_type": "code",
   "execution_count": 84,
   "id": "dbed49ce",
   "metadata": {},
   "outputs": [
    {
     "data": {
      "text/plain": [
       "'Dildar Ali'"
      ]
     },
     "execution_count": 84,
     "metadata": {},
     "output_type": "execute_result"
    }
   ],
   "source": [
    "complete_name(\"Dildar\",\"Ali\")"
   ]
  },
  {
   "cell_type": "markdown",
   "id": "6a4b7ff0",
   "metadata": {},
   "source": [
    "# Default_parameters"
   ]
  },
  {
   "cell_type": "code",
   "execution_count": 85,
   "id": "e577fb25",
   "metadata": {},
   "outputs": [],
   "source": [
    "def cube(num):\n",
    "    cube= num**3\n",
    "    return cube"
   ]
  },
  {
   "cell_type": "code",
   "execution_count": 86,
   "id": "ffeb7faf",
   "metadata": {},
   "outputs": [
    {
     "ename": "TypeError",
     "evalue": "cube() missing 1 required positional argument: 'num'",
     "output_type": "error",
     "traceback": [
      "\u001b[1;31m---------------------------------------------------------------------------\u001b[0m",
      "\u001b[1;31mTypeError\u001b[0m                                 Traceback (most recent call last)",
      "\u001b[1;32mC:\\Users\\LAB02R~1\\AppData\\Local\\Temp/ipykernel_10132/1933812215.py\u001b[0m in \u001b[0;36m<module>\u001b[1;34m\u001b[0m\n\u001b[1;32m----> 1\u001b[1;33m \u001b[0mcube\u001b[0m\u001b[1;33m(\u001b[0m\u001b[1;33m)\u001b[0m\u001b[1;33m\u001b[0m\u001b[1;33m\u001b[0m\u001b[0m\n\u001b[0m",
      "\u001b[1;31mTypeError\u001b[0m: cube() missing 1 required positional argument: 'num'"
     ]
    }
   ],
   "source": [
    "cube()"
   ]
  },
  {
   "cell_type": "code",
   "execution_count": 87,
   "id": "0058bd8a",
   "metadata": {},
   "outputs": [],
   "source": [
    "def cube(num=1):\n",
    "    cube= num**3\n",
    "    return cube"
   ]
  },
  {
   "cell_type": "code",
   "execution_count": 88,
   "id": "f6f17c90",
   "metadata": {},
   "outputs": [
    {
     "data": {
      "text/plain": [
       "1"
      ]
     },
     "execution_count": 88,
     "metadata": {},
     "output_type": "execute_result"
    }
   ],
   "source": [
    "cube()"
   ]
  },
  {
   "cell_type": "code",
   "execution_count": 1,
   "id": "d292bd2e",
   "metadata": {},
   "outputs": [
    {
     "name": "stdout",
     "output_type": "stream",
     "text": [
      "Dildar\n",
      "Ali\n"
     ]
    }
   ],
   "source": [
    "print(\"Dildar\",\"Ali\",sep=\"\\n\")"
   ]
  },
  {
   "cell_type": "code",
   "execution_count": 90,
   "id": "6a435680",
   "metadata": {},
   "outputs": [
    {
     "name": "stdout",
     "output_type": "stream",
     "text": [
      "Dildar\tAli\n"
     ]
    }
   ],
   "source": [
    "print(\"Dildar\",\"Ali\",sep=\"\\t\")"
   ]
  },
  {
   "cell_type": "code",
   "execution_count": 93,
   "id": "2b69ce70",
   "metadata": {},
   "outputs": [
    {
     "name": "stdout",
     "output_type": "stream",
     "text": [
      "Dildar.Ali\n"
     ]
    }
   ],
   "source": [
    "print(\"Dildar\",\"Ali\",sep=\".\")"
   ]
  },
  {
   "cell_type": "code",
   "execution_count": 94,
   "id": "c31c30dc",
   "metadata": {},
   "outputs": [],
   "source": [
    "def summ(a,b):\n",
    "    summ=a+b\n",
    "    return summ"
   ]
  },
  {
   "cell_type": "code",
   "execution_count": 96,
   "id": "98a59311",
   "metadata": {},
   "outputs": [
    {
     "ename": "TypeError",
     "evalue": "summ() missing 2 required positional arguments: 'a' and 'b'",
     "output_type": "error",
     "traceback": [
      "\u001b[1;31m---------------------------------------------------------------------------\u001b[0m",
      "\u001b[1;31mTypeError\u001b[0m                                 Traceback (most recent call last)",
      "\u001b[1;32mC:\\Users\\LAB02R~1\\AppData\\Local\\Temp/ipykernel_10132/3982343279.py\u001b[0m in \u001b[0;36m<module>\u001b[1;34m\u001b[0m\n\u001b[1;32m----> 1\u001b[1;33m \u001b[0msumm\u001b[0m\u001b[1;33m(\u001b[0m\u001b[1;33m)\u001b[0m\u001b[1;33m\u001b[0m\u001b[1;33m\u001b[0m\u001b[0m\n\u001b[0m",
      "\u001b[1;31mTypeError\u001b[0m: summ() missing 2 required positional arguments: 'a' and 'b'"
     ]
    }
   ],
   "source": [
    "summ()"
   ]
  },
  {
   "cell_type": "code",
   "execution_count": 97,
   "id": "8f80c3a7",
   "metadata": {},
   "outputs": [],
   "source": [
    "def summ(a=2,b=4):\n",
    "    summ=a+b\n",
    "    return summ"
   ]
  },
  {
   "cell_type": "code",
   "execution_count": 98,
   "id": "dc5408da",
   "metadata": {},
   "outputs": [
    {
     "data": {
      "text/plain": [
       "6"
      ]
     },
     "execution_count": 98,
     "metadata": {},
     "output_type": "execute_result"
    }
   ],
   "source": [
    "summ()"
   ]
  },
  {
   "cell_type": "code",
   "execution_count": 7,
   "id": "d551d3d7",
   "metadata": {},
   "outputs": [],
   "source": [
    "def calc(a,b):\n",
    "    n=input(\"Plz enter 'd' for addition , 'a' for subtraction , 'm' for multiplication and 'd' for division: \")\n",
    "    if n==\"a\":\n",
    "        print(a+b)\n",
    "    elif n==\"s\":\n",
    "        print(a-b)\n",
    "    elif n==\"m\":\n",
    "        print(a*b)\n",
    "    elif n==\"d\":\n",
    "        print(a//b)    "
   ]
  },
  {
   "cell_type": "code",
   "execution_count": 8,
   "id": "5a5ca354",
   "metadata": {},
   "outputs": [
    {
     "name": "stdout",
     "output_type": "stream",
     "text": [
      "Plz enter 'd' for addition , 'a' for subtraction , 'm' for multiplication and 'd' for division: d\n",
      "0.6666666666666666\n"
     ]
    }
   ],
   "source": [
    "calc(2,3)"
   ]
  },
  {
   "cell_type": "code",
   "execution_count": 3,
   "id": "52ec173d",
   "metadata": {},
   "outputs": [],
   "source": [
    "def calc(a,b):\n",
    "    n=input(\"Plz enter 'a' for addition , 's' for subtraction , 'm' for multiplication and 'd' for division: \")\n",
    "    if n==\"a\":\n",
    "        print(a+b)\n",
    "    elif n==\"s\":\n",
    "        print(a-b)\n",
    "    elif n==\"m\":\n",
    "        print(a*b)\n",
    "    elif n==\"d\":\n",
    "        print(a//b)    "
   ]
  },
  {
   "cell_type": "code",
   "execution_count": 4,
   "id": "9b1ccfbd",
   "metadata": {},
   "outputs": [
    {
     "name": "stdout",
     "output_type": "stream",
     "text": [
      "Plz enter 'a' for addition , 's' for subtraction , 'm' for multiplication and 'd' for division: m\n",
      "8\n"
     ]
    }
   ],
   "source": [
    "calc(2,4)"
   ]
  },
  {
   "cell_type": "code",
   "execution_count": 5,
   "id": "f23afc61",
   "metadata": {},
   "outputs": [
    {
     "name": "stdout",
     "output_type": "stream",
     "text": [
      "Plz enter 'a' for addition , 's' for subtraction , 'm' for multiplication and 'd' for division: d\n",
      "4\n"
     ]
    }
   ],
   "source": [
    "calc(8,2)"
   ]
  },
  {
   "cell_type": "code",
   "execution_count": 7,
   "id": "c327c23d",
   "metadata": {},
   "outputs": [
    {
     "name": "stdout",
     "output_type": "stream",
     "text": [
      "The largest nmbr in list is 44\n"
     ]
    }
   ],
   "source": [
    "lst=[11,2,33,44,5,6,7]\n",
    "#n=int(input(\"Enter your number: \")).split(',')\n",
    "for i in lst:\n",
    "    b=max(lst)\n",
    "print(f\"The largest nmbr in list is {b}\")"
   ]
  },
  {
   "cell_type": "code",
   "execution_count": 3,
   "id": "1ec9cd1f",
   "metadata": {},
   "outputs": [],
   "source": [
    "def lst_max(arr):        \n",
    "    return (max(arr)),(min(arr))\n",
    "    "
   ]
  },
  {
   "cell_type": "code",
   "execution_count": 5,
   "id": "a6cfe48d",
   "metadata": {},
   "outputs": [
    {
     "data": {
      "text/plain": [
       "(666, 3)"
      ]
     },
     "execution_count": 5,
     "metadata": {},
     "output_type": "execute_result"
    }
   ],
   "source": [
    "lst_max([22,3,44,5,666,6,5,4])"
   ]
  },
  {
   "cell_type": "code",
   "execution_count": 7,
   "id": "dc5a1b83",
   "metadata": {},
   "outputs": [
    {
     "data": {
      "text/plain": [
       "666"
      ]
     },
     "execution_count": 7,
     "metadata": {},
     "output_type": "execute_result"
    }
   ],
   "source": [
    "_max"
   ]
  },
  {
   "cell_type": "code",
   "execution_count": 8,
   "id": "64284877",
   "metadata": {},
   "outputs": [
    {
     "data": {
      "text/plain": [
       "3"
      ]
     },
     "execution_count": 8,
     "metadata": {},
     "output_type": "execute_result"
    }
   ],
   "source": [
    "_min"
   ]
  },
  {
   "cell_type": "code",
   "execution_count": 10,
   "id": "38c7a91e",
   "metadata": {},
   "outputs": [],
   "source": [
    "def dosquare(arr):\n",
    "    return [a**2 for a in arr]"
   ]
  },
  {
   "cell_type": "code",
   "execution_count": 11,
   "id": "b865e660",
   "metadata": {},
   "outputs": [
    {
     "data": {
      "text/plain": [
       "[1, 4, 9, 16, 25, 36, 49]"
      ]
     },
     "execution_count": 11,
     "metadata": {},
     "output_type": "execute_result"
    }
   ],
   "source": [
    "dosquare([1,2,3,4,5,6,7])"
   ]
  },
  {
   "cell_type": "code",
   "execution_count": 13,
   "id": "b9730b4e",
   "metadata": {},
   "outputs": [],
   "source": [
    "def dosquare(arr):\n",
    "    return [a**2 for a in arr if a<10 ]"
   ]
  },
  {
   "cell_type": "code",
   "execution_count": 14,
   "id": "6b4633d0",
   "metadata": {},
   "outputs": [
    {
     "data": {
      "text/plain": [
       "[4]"
      ]
     },
     "execution_count": 14,
     "metadata": {},
     "output_type": "execute_result"
    }
   ],
   "source": [
    "dosquare([22,2])"
   ]
  },
  {
   "cell_type": "code",
   "execution_count": 15,
   "id": "e11bd3ce",
   "metadata": {},
   "outputs": [
    {
     "ename": "SyntaxError",
     "evalue": "invalid syntax (Temp/ipykernel_1808/3845395676.py, line 2)",
     "output_type": "error",
     "traceback": [
      "\u001b[1;36m  File \u001b[1;32m\"C:\\Users\\LAB02R~1\\AppData\\Local\\Temp/ipykernel_1808/3845395676.py\"\u001b[1;36m, line \u001b[1;32m2\u001b[0m\n\u001b[1;33m    return [a**2 for a in arr if a<10 else a]\u001b[0m\n\u001b[1;37m                                      ^\u001b[0m\n\u001b[1;31mSyntaxError\u001b[0m\u001b[1;31m:\u001b[0m invalid syntax\n"
     ]
    }
   ],
   "source": [
    "def dosquare(arr):\n",
    "    return [a**2 for a in arr if a<10 else a]"
   ]
  },
  {
   "cell_type": "code",
   "execution_count": 16,
   "id": "a6254691",
   "metadata": {},
   "outputs": [],
   "source": [
    "def dosquare(arr):\n",
    "    return [a**2 if a<10 else a for a in arr ]"
   ]
  },
  {
   "cell_type": "code",
   "execution_count": 17,
   "id": "1c2edd07",
   "metadata": {},
   "outputs": [
    {
     "data": {
      "text/plain": [
       "[4, 9, 16, 55, 66]"
      ]
     },
     "execution_count": 17,
     "metadata": {},
     "output_type": "execute_result"
    }
   ],
   "source": [
    "dosquare([2,3,4,55,66])"
   ]
  },
  {
   "cell_type": "code",
   "execution_count": 38,
   "id": "16eebfb0",
   "metadata": {},
   "outputs": [],
   "source": [
    "def names(arr):\n",
    "    return [name for name in arr if len(str(name))<10] "
   ]
  },
  {
   "cell_type": "code",
   "execution_count": 41,
   "id": "69e436ba",
   "metadata": {},
   "outputs": [
    {
     "data": {
      "text/plain": [
       "['Nasir', 'Asad', 'Dildar', 'Ali', 'Bilal']"
      ]
     },
     "execution_count": 41,
     "metadata": {},
     "output_type": "execute_result"
    }
   ],
   "source": [
    "names(['Ghulamalikhanbaloch','Nasir','Asad','Dildar','Ali','Bilal','Khanmuhammadali'])"
   ]
  },
  {
   "cell_type": "code",
   "execution_count": null,
   "id": "1710a18a",
   "metadata": {},
   "outputs": [],
   "source": []
  }
 ],
 "metadata": {
  "kernelspec": {
   "display_name": "Python 3 (ipykernel)",
   "language": "python",
   "name": "python3"
  },
  "language_info": {
   "codemirror_mode": {
    "name": "ipython",
    "version": 3
   },
   "file_extension": ".py",
   "mimetype": "text/x-python",
   "name": "python",
   "nbconvert_exporter": "python",
   "pygments_lexer": "ipython3",
   "version": "3.9.7"
  }
 },
 "nbformat": 4,
 "nbformat_minor": 5
}
